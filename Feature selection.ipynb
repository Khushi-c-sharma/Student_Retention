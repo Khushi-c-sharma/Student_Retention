{
 "cells": [
  {
   "cell_type": "code",
   "execution_count": 19,
   "id": "390842ef",
   "metadata": {},
   "outputs": [],
   "source": [
    "import numpy as np\n",
    "import pandas as pd\n",
    "import mlflow\n",
    "import mlflow.sklearn\n",
    "from sklearn.model_selection import train_test_split\n",
    "from sklearn.preprocessing import LabelEncoder\n",
    "from sklearn.ensemble import RandomForestClassifier\n",
    "from sklearn.metrics import accuracy_score, precision_score, recall_score, f1_score\n",
    "from feature_engine.selection import SelectByShuffling, SelectBySingleFeaturePerformance, RecursiveFeatureElimination\n",
    "import json"
   ]
  },
  {
   "cell_type": "code",
   "execution_count": 3,
   "id": "41a68389",
   "metadata": {},
   "outputs": [
    {
     "data": {
      "text/html": [
       "<div>\n",
       "<style scoped>\n",
       "    .dataframe tbody tr th:only-of-type {\n",
       "        vertical-align: middle;\n",
       "    }\n",
       "\n",
       "    .dataframe tbody tr th {\n",
       "        vertical-align: top;\n",
       "    }\n",
       "\n",
       "    .dataframe thead th {\n",
       "        text-align: right;\n",
       "    }\n",
       "</style>\n",
       "<table border=\"1\" class=\"dataframe\">\n",
       "  <thead>\n",
       "    <tr style=\"text-align: right;\">\n",
       "      <th></th>\n",
       "      <th>Marital status</th>\n",
       "      <th>Application mode</th>\n",
       "      <th>Application order</th>\n",
       "      <th>Course</th>\n",
       "      <th>Daytime/evening attendance</th>\n",
       "      <th>Previous qualification</th>\n",
       "      <th>Nacionality</th>\n",
       "      <th>Mother's qualification</th>\n",
       "      <th>Father's qualification</th>\n",
       "      <th>Mother's occupation</th>\n",
       "      <th>...</th>\n",
       "      <th>Parental_influence</th>\n",
       "      <th>Course_Dropout_prob</th>\n",
       "      <th>Course_Enrolled_prob</th>\n",
       "      <th>Course_Graduate_prob</th>\n",
       "      <th>Application mode_Dropout_prob</th>\n",
       "      <th>Application mode_Enrolled_prob</th>\n",
       "      <th>Application mode_Graduate_prob</th>\n",
       "      <th>Previous qualification_Dropout_prob</th>\n",
       "      <th>Previous qualification_Enrolled_prob</th>\n",
       "      <th>Previous qualification_Graduate_prob</th>\n",
       "    </tr>\n",
       "  </thead>\n",
       "  <tbody>\n",
       "    <tr>\n",
       "      <th>0</th>\n",
       "      <td>1</td>\n",
       "      <td>8</td>\n",
       "      <td>5</td>\n",
       "      <td>2</td>\n",
       "      <td>1</td>\n",
       "      <td>1</td>\n",
       "      <td>1</td>\n",
       "      <td>13</td>\n",
       "      <td>10</td>\n",
       "      <td>6</td>\n",
       "      <td>...</td>\n",
       "      <td>-4.824723</td>\n",
       "      <td>0.381395</td>\n",
       "      <td>0.172093</td>\n",
       "      <td>0.446512</td>\n",
       "      <td>0.293578</td>\n",
       "      <td>0.182339</td>\n",
       "      <td>0.524083</td>\n",
       "      <td>0.290019</td>\n",
       "      <td>0.187786</td>\n",
       "      <td>0.522195</td>\n",
       "    </tr>\n",
       "    <tr>\n",
       "      <th>1</th>\n",
       "      <td>1</td>\n",
       "      <td>6</td>\n",
       "      <td>1</td>\n",
       "      <td>11</td>\n",
       "      <td>1</td>\n",
       "      <td>1</td>\n",
       "      <td>1</td>\n",
       "      <td>1</td>\n",
       "      <td>3</td>\n",
       "      <td>4</td>\n",
       "      <td>...</td>\n",
       "      <td>-18.023059</td>\n",
       "      <td>0.380952</td>\n",
       "      <td>0.162698</td>\n",
       "      <td>0.456349</td>\n",
       "      <td>0.166667</td>\n",
       "      <td>0.333333</td>\n",
       "      <td>0.500000</td>\n",
       "      <td>0.290019</td>\n",
       "      <td>0.187786</td>\n",
       "      <td>0.522195</td>\n",
       "    </tr>\n",
       "    <tr>\n",
       "      <th>2</th>\n",
       "      <td>1</td>\n",
       "      <td>1</td>\n",
       "      <td>5</td>\n",
       "      <td>5</td>\n",
       "      <td>1</td>\n",
       "      <td>1</td>\n",
       "      <td>1</td>\n",
       "      <td>22</td>\n",
       "      <td>27</td>\n",
       "      <td>10</td>\n",
       "      <td>...</td>\n",
       "      <td>14.511525</td>\n",
       "      <td>0.225664</td>\n",
       "      <td>0.185841</td>\n",
       "      <td>0.588496</td>\n",
       "      <td>0.201991</td>\n",
       "      <td>0.175644</td>\n",
       "      <td>0.622365</td>\n",
       "      <td>0.290019</td>\n",
       "      <td>0.187786</td>\n",
       "      <td>0.522195</td>\n",
       "    </tr>\n",
       "    <tr>\n",
       "      <th>3</th>\n",
       "      <td>1</td>\n",
       "      <td>8</td>\n",
       "      <td>2</td>\n",
       "      <td>15</td>\n",
       "      <td>1</td>\n",
       "      <td>1</td>\n",
       "      <td>1</td>\n",
       "      <td>23</td>\n",
       "      <td>27</td>\n",
       "      <td>6</td>\n",
       "      <td>...</td>\n",
       "      <td>14.122941</td>\n",
       "      <td>0.305136</td>\n",
       "      <td>0.102719</td>\n",
       "      <td>0.592145</td>\n",
       "      <td>0.293578</td>\n",
       "      <td>0.182339</td>\n",
       "      <td>0.524083</td>\n",
       "      <td>0.290019</td>\n",
       "      <td>0.187786</td>\n",
       "      <td>0.522195</td>\n",
       "    </tr>\n",
       "    <tr>\n",
       "      <th>4</th>\n",
       "      <td>2</td>\n",
       "      <td>12</td>\n",
       "      <td>1</td>\n",
       "      <td>3</td>\n",
       "      <td>0</td>\n",
       "      <td>1</td>\n",
       "      <td>1</td>\n",
       "      <td>22</td>\n",
       "      <td>28</td>\n",
       "      <td>10</td>\n",
       "      <td>...</td>\n",
       "      <td>15.327614</td>\n",
       "      <td>0.330233</td>\n",
       "      <td>0.097674</td>\n",
       "      <td>0.572093</td>\n",
       "      <td>0.554140</td>\n",
       "      <td>0.154140</td>\n",
       "      <td>0.291720</td>\n",
       "      <td>0.290019</td>\n",
       "      <td>0.187786</td>\n",
       "      <td>0.522195</td>\n",
       "    </tr>\n",
       "  </tbody>\n",
       "</table>\n",
       "<p>5 rows × 52 columns</p>\n",
       "</div>"
      ],
      "text/plain": [
       "   Marital status  Application mode  Application order  Course  \\\n",
       "0               1                 8                  5       2   \n",
       "1               1                 6                  1      11   \n",
       "2               1                 1                  5       5   \n",
       "3               1                 8                  2      15   \n",
       "4               2                12                  1       3   \n",
       "\n",
       "   Daytime/evening attendance  Previous qualification  Nacionality  \\\n",
       "0                           1                       1            1   \n",
       "1                           1                       1            1   \n",
       "2                           1                       1            1   \n",
       "3                           1                       1            1   \n",
       "4                           0                       1            1   \n",
       "\n",
       "   Mother's qualification  Father's qualification  Mother's occupation  ...  \\\n",
       "0                      13                      10                    6  ...   \n",
       "1                       1                       3                    4  ...   \n",
       "2                      22                      27                   10  ...   \n",
       "3                      23                      27                    6  ...   \n",
       "4                      22                      28                   10  ...   \n",
       "\n",
       "   Parental_influence  Course_Dropout_prob  Course_Enrolled_prob  \\\n",
       "0           -4.824723             0.381395              0.172093   \n",
       "1          -18.023059             0.380952              0.162698   \n",
       "2           14.511525             0.225664              0.185841   \n",
       "3           14.122941             0.305136              0.102719   \n",
       "4           15.327614             0.330233              0.097674   \n",
       "\n",
       "   Course_Graduate_prob  Application mode_Dropout_prob  \\\n",
       "0              0.446512                       0.293578   \n",
       "1              0.456349                       0.166667   \n",
       "2              0.588496                       0.201991   \n",
       "3              0.592145                       0.293578   \n",
       "4              0.572093                       0.554140   \n",
       "\n",
       "   Application mode_Enrolled_prob  Application mode_Graduate_prob  \\\n",
       "0                        0.182339                        0.524083   \n",
       "1                        0.333333                        0.500000   \n",
       "2                        0.175644                        0.622365   \n",
       "3                        0.182339                        0.524083   \n",
       "4                        0.154140                        0.291720   \n",
       "\n",
       "   Previous qualification_Dropout_prob  Previous qualification_Enrolled_prob  \\\n",
       "0                             0.290019                              0.187786   \n",
       "1                             0.290019                              0.187786   \n",
       "2                             0.290019                              0.187786   \n",
       "3                             0.290019                              0.187786   \n",
       "4                             0.290019                              0.187786   \n",
       "\n",
       "   Previous qualification_Graduate_prob  \n",
       "0                              0.522195  \n",
       "1                              0.522195  \n",
       "2                              0.522195  \n",
       "3                              0.522195  \n",
       "4                              0.522195  \n",
       "\n",
       "[5 rows x 52 columns]"
      ]
     },
     "execution_count": 3,
     "metadata": {},
     "output_type": "execute_result"
    }
   ],
   "source": [
    "df = pd.read_csv(\"processed_data/dataset_after_feature_building.csv\")\n",
    "df.head()"
   ]
  },
  {
   "cell_type": "code",
   "execution_count": 4,
   "id": "395926d1",
   "metadata": {},
   "outputs": [
    {
     "data": {
      "text/plain": [
       "Marital status                                    0\n",
       "Application mode                                  0\n",
       "Application order                                 0\n",
       "Course                                            0\n",
       "Daytime/evening attendance                        0\n",
       "Previous qualification                            0\n",
       "Nacionality                                       0\n",
       "Mother's qualification                            0\n",
       "Father's qualification                            0\n",
       "Mother's occupation                               0\n",
       "Father's occupation                               0\n",
       "Displaced                                         0\n",
       "Educational special needs                         0\n",
       "Debtor                                            0\n",
       "Tuition fees up to date                           0\n",
       "Gender                                            0\n",
       "Scholarship holder                                0\n",
       "Age at enrollment                                 0\n",
       "International                                     0\n",
       "Curricular units 1st sem (credited)               0\n",
       "Curricular units 1st sem (enrolled)               0\n",
       "Curricular units 1st sem (evaluations)            0\n",
       "Curricular units 1st sem (approved)               0\n",
       "Curricular units 1st sem (grade)                  0\n",
       "Curricular units 1st sem (without evaluations)    0\n",
       "Curricular units 2nd sem (credited)               0\n",
       "Curricular units 2nd sem (enrolled)               0\n",
       "Curricular units 2nd sem (evaluations)            0\n",
       "Curricular units 2nd sem (approved)               0\n",
       "Curricular units 2nd sem (grade)                  0\n",
       "Curricular units 2nd sem (without evaluations)    0\n",
       "Unemployment rate                                 0\n",
       "Inflation rate                                    0\n",
       "GDP                                               0\n",
       "Target                                            0\n",
       "1st_sem_perf_ratio                                0\n",
       "2nd_sem_perf_ratio                                0\n",
       "grade_diff                                        0\n",
       "Failed units ratio                                0\n",
       "Credit utilization                                0\n",
       "Financial stress                                  0\n",
       "Late_enrollment                                   0\n",
       "Parental_influence                                0\n",
       "Course_Dropout_prob                               0\n",
       "Course_Enrolled_prob                              0\n",
       "Course_Graduate_prob                              0\n",
       "Application mode_Dropout_prob                     0\n",
       "Application mode_Enrolled_prob                    0\n",
       "Application mode_Graduate_prob                    0\n",
       "Previous qualification_Dropout_prob               0\n",
       "Previous qualification_Enrolled_prob              0\n",
       "Previous qualification_Graduate_prob              0\n",
       "dtype: int64"
      ]
     },
     "execution_count": 4,
     "metadata": {},
     "output_type": "execute_result"
    }
   ],
   "source": [
    "df.isna().sum()"
   ]
  },
  {
   "cell_type": "code",
   "execution_count": 5,
   "id": "43d1dda7",
   "metadata": {},
   "outputs": [],
   "source": [
    "target_variable = \"Target\""
   ]
  },
  {
   "cell_type": "code",
   "execution_count": 6,
   "id": "9ec50ed4",
   "metadata": {},
   "outputs": [],
   "source": [
    "X = df.drop(columns=[target_variable])\n",
    "y = df[target_variable]"
   ]
  },
  {
   "cell_type": "code",
   "execution_count": 7,
   "id": "30cace5e",
   "metadata": {},
   "outputs": [],
   "source": [
    "label_enc = LabelEncoder()"
   ]
  },
  {
   "cell_type": "code",
   "execution_count": 8,
   "id": "b7ee2aff",
   "metadata": {},
   "outputs": [],
   "source": [
    "X_train, X_test, y_train, y_test = train_test_split(X, y, test_size=0.2, random_state=42)"
   ]
  },
  {
   "cell_type": "code",
   "execution_count": 9,
   "id": "5290f425",
   "metadata": {},
   "outputs": [],
   "source": [
    "y_train = label_enc.fit_transform(y_train)\n",
    "y_test = label_enc.transform(y_test)"
   ]
  },
  {
   "cell_type": "code",
   "execution_count": 10,
   "id": "aa9f6870",
   "metadata": {},
   "outputs": [
    {
     "data": {
      "text/plain": [
       "((3539, 51), (885, 51))"
      ]
     },
     "execution_count": 10,
     "metadata": {},
     "output_type": "execute_result"
    }
   ],
   "source": [
    "X_train.shape, X_test.shape"
   ]
  },
  {
   "cell_type": "code",
   "execution_count": 11,
   "id": "36461007",
   "metadata": {},
   "outputs": [
    {
     "data": {
      "text/plain": [
       "array([0, 1, 2, ..., 2, 2, 0])"
      ]
     },
     "execution_count": 11,
     "metadata": {},
     "output_type": "execute_result"
    }
   ],
   "source": [
    "y_train"
   ]
  },
  {
   "cell_type": "code",
   "execution_count": 12,
   "id": "b6438e29",
   "metadata": {},
   "outputs": [
    {
     "data": {
      "text/plain": [
       "array([0, 2, 2, 2, 0, 2, 1, 0, 2, 2, 2, 2, 0, 2, 0, 1, 1, 2, 1, 2, 2, 0,\n",
       "       0, 2, 2, 1, 0, 1, 1, 0, 1, 0, 0, 0, 0, 1, 2, 2, 2, 1, 0, 0, 2, 0,\n",
       "       0, 2, 2, 2, 2, 0, 1, 2, 1, 0, 1, 2, 2, 2, 2, 2, 2, 2, 2, 0, 2, 2,\n",
       "       2, 1, 0, 0, 2, 2, 0, 1, 2, 2, 2, 2, 1, 2, 0, 0, 2, 0, 2, 1, 2, 2,\n",
       "       2, 2, 0, 0, 2, 0, 0, 2, 1, 0, 0, 0, 2, 2, 2, 0, 1, 1, 2, 0, 0, 1,\n",
       "       0, 2, 2, 2, 2, 2, 1, 1, 2, 0, 2, 0, 0, 2, 1, 0, 2, 0, 2, 0, 2, 1,\n",
       "       1, 1, 2, 2, 0, 2, 0, 1, 0, 0, 2, 2, 2, 2, 1, 2, 0, 1, 1, 0, 2, 1,\n",
       "       0, 0, 2, 2, 0, 2, 1, 2, 2, 2, 0, 0, 0, 1, 1, 1, 1, 2, 2, 2, 0, 2,\n",
       "       1, 0, 2, 2, 0, 2, 0, 0, 2, 0, 0, 2, 2, 0, 2, 1, 2, 0, 2, 0, 2, 2,\n",
       "       0, 2, 0, 2, 2, 2, 2, 0, 2, 2, 2, 0, 2, 0, 2, 2, 1, 1, 2, 0, 0, 1,\n",
       "       2, 2, 0, 2, 0, 0, 2, 0, 0, 2, 2, 0, 1, 1, 1, 1, 0, 2, 2, 2, 2, 0,\n",
       "       0, 1, 2, 1, 0, 0, 2, 1, 0, 2, 2, 2, 2, 2, 0, 0, 2, 1, 2, 2, 0, 0,\n",
       "       2, 2, 2, 2, 2, 0, 1, 1, 0, 0, 2, 2, 2, 1, 2, 2, 2, 2, 2, 0, 0, 0,\n",
       "       2, 0, 0, 1, 0, 1, 0, 2, 2, 2, 1, 2, 1, 2, 2, 0, 2, 2, 0, 2, 2, 2,\n",
       "       2, 1, 1, 0, 1, 2, 2, 1, 2, 2, 2, 1, 2, 0, 2, 0, 0, 1, 0, 0, 2, 1,\n",
       "       2, 0, 1, 0, 1, 2, 1, 0, 2, 1, 2, 0, 1, 2, 0, 0, 0, 2, 1, 1, 0, 0,\n",
       "       0, 0, 2, 0, 0, 0, 1, 0, 1, 2, 2, 0, 2, 0, 2, 2, 2, 0, 2, 2, 0, 2,\n",
       "       0, 2, 2, 0, 0, 0, 2, 0, 0, 0, 0, 2, 2, 1, 2, 0, 2, 0, 2, 2, 2, 0,\n",
       "       1, 0, 1, 2, 2, 0, 0, 2, 2, 2, 2, 2, 2, 2, 2, 2, 2, 1, 2, 1, 2, 2,\n",
       "       2, 2, 0, 0, 2, 2, 2, 1, 0, 0, 1, 1, 0, 0, 2, 2, 2, 0, 2, 1, 2, 2,\n",
       "       2, 0, 1, 0, 2, 2, 1, 0, 1, 2, 2, 0, 0, 1, 0, 2, 2, 0, 2, 0, 2, 2,\n",
       "       2, 2, 1, 2, 0, 2, 0, 2, 0, 2, 1, 2, 2, 2, 2, 0, 2, 0, 0, 2, 0, 0,\n",
       "       0, 0, 0, 0, 0, 2, 0, 2, 2, 2, 2, 2, 1, 0, 0, 2, 0, 1, 2, 0, 2, 2,\n",
       "       0, 0, 2, 2, 1, 2, 0, 0, 2, 0, 2, 0, 0, 2, 2, 0, 1, 2, 0, 2, 0, 2,\n",
       "       2, 2, 0, 0, 1, 2, 2, 1, 2, 0, 0, 0, 2, 0, 0, 2, 2, 2, 0, 2, 1, 2,\n",
       "       1, 2, 0, 2, 2, 0, 2, 1, 2, 0, 2, 0, 2, 2, 0, 0, 0, 2, 0, 0, 1, 2,\n",
       "       1, 0, 2, 2, 2, 1, 2, 0, 0, 0, 1, 2, 1, 2, 0, 0, 2, 2, 2, 2, 1, 2,\n",
       "       0, 2, 2, 2, 2, 0, 0, 2, 0, 2, 2, 0, 2, 0, 2, 2, 2, 1, 0, 2, 2, 0,\n",
       "       1, 0, 1, 2, 1, 0, 0, 0, 2, 2, 2, 0, 1, 0, 2, 2, 0, 1, 0, 0, 2, 0,\n",
       "       2, 1, 0, 0, 0, 2, 0, 2, 1, 2, 0, 0, 0, 0, 2, 2, 0, 0, 2, 0, 0, 2,\n",
       "       2, 0, 2, 0, 1, 0, 0, 2, 2, 2, 2, 1, 2, 2, 2, 0, 2, 1, 1, 0, 0, 2,\n",
       "       2, 0, 0, 2, 1, 0, 2, 0, 0, 2, 2, 2, 2, 0, 2, 0, 2, 2, 2, 2, 0, 2,\n",
       "       2, 0, 2, 2, 1, 2, 0, 2, 2, 2, 2, 2, 1, 2, 0, 1, 2, 2, 2, 0, 0, 0,\n",
       "       0, 0, 1, 0, 2, 1, 1, 1, 0, 0, 2, 0, 0, 0, 2, 2, 1, 2, 2, 2, 0, 2,\n",
       "       2, 2, 0, 2, 2, 2, 2, 1, 2, 1, 2, 2, 0, 1, 2, 2, 2, 2, 0, 1, 2, 2,\n",
       "       0, 2, 2, 2, 2, 2, 2, 0, 0, 2, 1, 2, 0, 0, 1, 0, 2, 2, 2, 2, 0, 2,\n",
       "       0, 0, 0, 1, 1, 0, 0, 0, 0, 2, 0, 0, 2, 0, 2, 2, 0, 2, 0, 2, 0, 1,\n",
       "       0, 2, 2, 0, 2, 2, 2, 0, 0, 2, 2, 2, 1, 1, 2, 0, 1, 0, 1, 1, 0, 0,\n",
       "       2, 0, 0, 0, 2, 2, 2, 0, 2, 0, 0, 2, 1, 2, 0, 1, 1, 0, 1, 2, 0, 0,\n",
       "       0, 2, 2, 0, 0, 0, 1, 2, 0, 0, 2, 2, 0, 0, 1, 1, 2, 1, 1, 0, 1, 1,\n",
       "       2, 0, 1, 1, 2])"
      ]
     },
     "execution_count": 12,
     "metadata": {},
     "output_type": "execute_result"
    }
   ],
   "source": [
    "y_test"
   ]
  },
  {
   "cell_type": "code",
   "execution_count": 13,
   "id": "84cd92a6",
   "metadata": {},
   "outputs": [],
   "source": [
    "import warnings\n",
    "warnings.filterwarnings('ignore')"
   ]
  },
  {
   "cell_type": "markdown",
   "id": "9cf94d3b",
   "metadata": {},
   "source": [
    "## Using Select By Single Feature Performance"
   ]
  },
  {
   "cell_type": "code",
   "execution_count": 17,
   "id": "5d97ea83",
   "metadata": {},
   "outputs": [
    {
     "name": "stderr",
     "output_type": "stream",
     "text": [
      "2025/02/03 17:19:45 WARNING mlflow.models.model: Model logged without a signature and input example. Please set `input_example` parameter when logging the model to auto infer the model signature.\n"
     ]
    },
    {
     "name": "stdout",
     "output_type": "stream",
     "text": [
      "🏃 View run Threshold_0.1_Scoring_accuracy at: http://127.0.0.1:5000/#/experiments/793534556724788889/runs/0d5def2354d044f6a5179f8f37cc905e\n",
      "🧪 View experiment at: http://127.0.0.1:5000/#/experiments/793534556724788889\n"
     ]
    },
    {
     "name": "stderr",
     "output_type": "stream",
     "text": [
      "2025/02/03 17:20:09 WARNING mlflow.models.model: Model logged without a signature and input example. Please set `input_example` parameter when logging the model to auto infer the model signature.\n"
     ]
    },
    {
     "name": "stdout",
     "output_type": "stream",
     "text": [
      "🏃 View run Threshold_0.1_Scoring_precision_macro at: http://127.0.0.1:5000/#/experiments/793534556724788889/runs/d9f7ba31e10f4c3f9aaa633bc7d8393d\n",
      "🧪 View experiment at: http://127.0.0.1:5000/#/experiments/793534556724788889\n"
     ]
    },
    {
     "name": "stderr",
     "output_type": "stream",
     "text": [
      "2025/02/03 17:20:33 WARNING mlflow.models.model: Model logged without a signature and input example. Please set `input_example` parameter when logging the model to auto infer the model signature.\n"
     ]
    },
    {
     "name": "stdout",
     "output_type": "stream",
     "text": [
      "🏃 View run Threshold_0.1_Scoring_recall_macro at: http://127.0.0.1:5000/#/experiments/793534556724788889/runs/0801796801ed4a3ab306c6bf46c064f6\n",
      "🧪 View experiment at: http://127.0.0.1:5000/#/experiments/793534556724788889\n"
     ]
    },
    {
     "name": "stderr",
     "output_type": "stream",
     "text": [
      "2025/02/03 17:20:56 WARNING mlflow.models.model: Model logged without a signature and input example. Please set `input_example` parameter when logging the model to auto infer the model signature.\n"
     ]
    },
    {
     "name": "stdout",
     "output_type": "stream",
     "text": [
      "🏃 View run Threshold_0.1_Scoring_f1_macro at: http://127.0.0.1:5000/#/experiments/793534556724788889/runs/b82a1a21db3b4ef2b21fa3aee772d269\n",
      "🧪 View experiment at: http://127.0.0.1:5000/#/experiments/793534556724788889\n"
     ]
    },
    {
     "name": "stderr",
     "output_type": "stream",
     "text": [
      "2025/02/03 17:21:20 WARNING mlflow.models.model: Model logged without a signature and input example. Please set `input_example` parameter when logging the model to auto infer the model signature.\n"
     ]
    },
    {
     "name": "stdout",
     "output_type": "stream",
     "text": [
      "🏃 View run Threshold_0.1_Scoring_roc_auc_ovr at: http://127.0.0.1:5000/#/experiments/793534556724788889/runs/ff92db33ded2491ab5d0645d8507a6f5\n",
      "🧪 View experiment at: http://127.0.0.1:5000/#/experiments/793534556724788889\n"
     ]
    },
    {
     "name": "stderr",
     "output_type": "stream",
     "text": [
      "2025/02/03 17:21:44 WARNING mlflow.models.model: Model logged without a signature and input example. Please set `input_example` parameter when logging the model to auto infer the model signature.\n"
     ]
    },
    {
     "name": "stdout",
     "output_type": "stream",
     "text": [
      "🏃 View run Threshold_0.1_Scoring_top_k_accuracy at: http://127.0.0.1:5000/#/experiments/793534556724788889/runs/05d58d0a65784041979b3a6fb54362a8\n",
      "🧪 View experiment at: http://127.0.0.1:5000/#/experiments/793534556724788889\n"
     ]
    },
    {
     "name": "stderr",
     "output_type": "stream",
     "text": [
      "2025/02/03 17:22:07 WARNING mlflow.models.model: Model logged without a signature and input example. Please set `input_example` parameter when logging the model to auto infer the model signature.\n"
     ]
    },
    {
     "name": "stdout",
     "output_type": "stream",
     "text": [
      "🏃 View run Threshold_0.2_Scoring_accuracy at: http://127.0.0.1:5000/#/experiments/793534556724788889/runs/47b8ebef91ab4bf484b9fd727aca37f3\n",
      "🧪 View experiment at: http://127.0.0.1:5000/#/experiments/793534556724788889\n"
     ]
    },
    {
     "name": "stderr",
     "output_type": "stream",
     "text": [
      "2025/02/03 17:22:31 WARNING mlflow.models.model: Model logged without a signature and input example. Please set `input_example` parameter when logging the model to auto infer the model signature.\n"
     ]
    },
    {
     "name": "stdout",
     "output_type": "stream",
     "text": [
      "🏃 View run Threshold_0.2_Scoring_precision_macro at: http://127.0.0.1:5000/#/experiments/793534556724788889/runs/409f9886798f4ae1acdd2af234de669e\n",
      "🧪 View experiment at: http://127.0.0.1:5000/#/experiments/793534556724788889\n"
     ]
    },
    {
     "name": "stderr",
     "output_type": "stream",
     "text": [
      "2025/02/03 17:22:55 WARNING mlflow.models.model: Model logged without a signature and input example. Please set `input_example` parameter when logging the model to auto infer the model signature.\n"
     ]
    },
    {
     "name": "stdout",
     "output_type": "stream",
     "text": [
      "🏃 View run Threshold_0.2_Scoring_recall_macro at: http://127.0.0.1:5000/#/experiments/793534556724788889/runs/2f7ad5d1603a46cfbff2f8d642fc785e\n",
      "🧪 View experiment at: http://127.0.0.1:5000/#/experiments/793534556724788889\n"
     ]
    },
    {
     "name": "stderr",
     "output_type": "stream",
     "text": [
      "2025/02/03 17:23:18 WARNING mlflow.models.model: Model logged without a signature and input example. Please set `input_example` parameter when logging the model to auto infer the model signature.\n"
     ]
    },
    {
     "name": "stdout",
     "output_type": "stream",
     "text": [
      "🏃 View run Threshold_0.2_Scoring_f1_macro at: http://127.0.0.1:5000/#/experiments/793534556724788889/runs/80bad654f4a84062bf86e70878909474\n",
      "🧪 View experiment at: http://127.0.0.1:5000/#/experiments/793534556724788889\n"
     ]
    },
    {
     "name": "stderr",
     "output_type": "stream",
     "text": [
      "2025/02/03 17:23:50 WARNING mlflow.models.model: Model logged without a signature and input example. Please set `input_example` parameter when logging the model to auto infer the model signature.\n"
     ]
    },
    {
     "name": "stdout",
     "output_type": "stream",
     "text": [
      "🏃 View run Threshold_0.2_Scoring_roc_auc_ovr at: http://127.0.0.1:5000/#/experiments/793534556724788889/runs/43997ad54fdc4d92a714755e861243a2\n",
      "🧪 View experiment at: http://127.0.0.1:5000/#/experiments/793534556724788889\n"
     ]
    },
    {
     "name": "stderr",
     "output_type": "stream",
     "text": [
      "2025/02/03 17:24:21 WARNING mlflow.models.model: Model logged without a signature and input example. Please set `input_example` parameter when logging the model to auto infer the model signature.\n"
     ]
    },
    {
     "name": "stdout",
     "output_type": "stream",
     "text": [
      "🏃 View run Threshold_0.2_Scoring_top_k_accuracy at: http://127.0.0.1:5000/#/experiments/793534556724788889/runs/abdab1ce0d7f4f8dbae0b8ee0d8e6fa4\n",
      "🧪 View experiment at: http://127.0.0.1:5000/#/experiments/793534556724788889\n"
     ]
    },
    {
     "name": "stderr",
     "output_type": "stream",
     "text": [
      "2025/02/03 17:24:51 WARNING mlflow.models.model: Model logged without a signature and input example. Please set `input_example` parameter when logging the model to auto infer the model signature.\n"
     ]
    },
    {
     "name": "stdout",
     "output_type": "stream",
     "text": [
      "🏃 View run Threshold_0.3_Scoring_accuracy at: http://127.0.0.1:5000/#/experiments/793534556724788889/runs/ccbbfc7b86da4a8ba65387e028444e42\n",
      "🧪 View experiment at: http://127.0.0.1:5000/#/experiments/793534556724788889\n"
     ]
    },
    {
     "name": "stderr",
     "output_type": "stream",
     "text": [
      "2025/02/03 17:25:23 WARNING mlflow.models.model: Model logged without a signature and input example. Please set `input_example` parameter when logging the model to auto infer the model signature.\n"
     ]
    },
    {
     "name": "stdout",
     "output_type": "stream",
     "text": [
      "🏃 View run Threshold_0.3_Scoring_precision_macro at: http://127.0.0.1:5000/#/experiments/793534556724788889/runs/e4498d86cc2f4dd58e0e44b98facd9c1\n",
      "🧪 View experiment at: http://127.0.0.1:5000/#/experiments/793534556724788889\n"
     ]
    },
    {
     "name": "stderr",
     "output_type": "stream",
     "text": [
      "2025/02/03 17:25:55 WARNING mlflow.models.model: Model logged without a signature and input example. Please set `input_example` parameter when logging the model to auto infer the model signature.\n"
     ]
    },
    {
     "name": "stdout",
     "output_type": "stream",
     "text": [
      "🏃 View run Threshold_0.3_Scoring_recall_macro at: http://127.0.0.1:5000/#/experiments/793534556724788889/runs/bfb641976f084b21994d2e39bc13b214\n",
      "🧪 View experiment at: http://127.0.0.1:5000/#/experiments/793534556724788889\n"
     ]
    },
    {
     "name": "stderr",
     "output_type": "stream",
     "text": [
      "2025/02/03 17:26:26 WARNING mlflow.models.model: Model logged without a signature and input example. Please set `input_example` parameter when logging the model to auto infer the model signature.\n"
     ]
    },
    {
     "name": "stdout",
     "output_type": "stream",
     "text": [
      "🏃 View run Threshold_0.3_Scoring_f1_macro at: http://127.0.0.1:5000/#/experiments/793534556724788889/runs/ea8ea978b19a41c19139faefcbf22a6a\n",
      "🧪 View experiment at: http://127.0.0.1:5000/#/experiments/793534556724788889\n"
     ]
    },
    {
     "name": "stderr",
     "output_type": "stream",
     "text": [
      "2025/02/03 17:26:58 WARNING mlflow.models.model: Model logged without a signature and input example. Please set `input_example` parameter when logging the model to auto infer the model signature.\n"
     ]
    },
    {
     "name": "stdout",
     "output_type": "stream",
     "text": [
      "🏃 View run Threshold_0.3_Scoring_roc_auc_ovr at: http://127.0.0.1:5000/#/experiments/793534556724788889/runs/0e008f4455e94834a29be96ed3a122ee\n",
      "🧪 View experiment at: http://127.0.0.1:5000/#/experiments/793534556724788889\n"
     ]
    },
    {
     "name": "stderr",
     "output_type": "stream",
     "text": [
      "2025/02/03 17:27:23 WARNING mlflow.models.model: Model logged without a signature and input example. Please set `input_example` parameter when logging the model to auto infer the model signature.\n"
     ]
    },
    {
     "name": "stdout",
     "output_type": "stream",
     "text": [
      "🏃 View run Threshold_0.3_Scoring_top_k_accuracy at: http://127.0.0.1:5000/#/experiments/793534556724788889/runs/84d2f86ee3664b52a5b8b3a6112a36f8\n",
      "🧪 View experiment at: http://127.0.0.1:5000/#/experiments/793534556724788889\n",
      "✅ MLflow logging complete! Compare different thresholds & scoring methods, including selected features (JSON), in the MLflow UI.\n"
     ]
    }
   ],
   "source": [
    "# Set MLflow tracking URI and experiment\n",
    "mlflow.set_tracking_uri(\"http://127.0.0.1:5000/\")\n",
    "mlflow.set_experiment(\"Feature_Selection_Tracking\")\n",
    "\n",
    "# Define feature selection parameters\n",
    "thresholds = [0.1, 0.2, 0.3]  # Different thresholds for feature selection\n",
    "scoring_methods = [\"accuracy\", \"precision_macro\", \"recall_macro\", \"f1_macro\", \"roc_auc_ovr\",\n",
    "                   \"top_k_accuracy\"]\n",
    "\n",
    "for threshold in thresholds:\n",
    "    for scoring in scoring_methods:\n",
    "        # Feature selection\n",
    "        selector = SelectBySingleFeaturePerformance(\n",
    "            estimator=RandomForestClassifier(random_state=42),\n",
    "            scoring=scoring,\n",
    "            threshold=threshold\n",
    "        )\n",
    "        selector.fit(X_train, y_train)\n",
    "\n",
    "        # Get selected features\n",
    "        selected_features = X_train.columns[selector.get_support()].tolist()\n",
    "        X_train_selected = selector.transform(X_train)\n",
    "        X_test_selected = selector.transform(X_test)\n",
    "\n",
    "        # Train & Evaluate Model After Feature Selection\n",
    "        with mlflow.start_run(run_name=f\"Threshold_{threshold}_Scoring_{scoring}\"):\n",
    "            model_fs = RandomForestClassifier(random_state=42)\n",
    "            model_fs.fit(X_train_selected, y_train)\n",
    "            y_pred_fs = model_fs.predict(X_test_selected)\n",
    "\n",
    "            # Compute Metrics\n",
    "            metrics_after = {\n",
    "                \"accuracy\": accuracy_score(y_test, y_pred_fs),\n",
    "                \"precision\": precision_score(y_test, y_pred_fs, average=\"weighted\"),\n",
    "                \"recall\": recall_score(y_test, y_pred_fs, average=\"weighted\"),\n",
    "                \"f1_score\": f1_score(y_test, y_pred_fs, average=\"weighted\"),\n",
    "            }\n",
    "\n",
    "            # Log Parameters and Metrics\n",
    "            mlflow.log_params({\n",
    "                \"feature_selection_applied\": True,\n",
    "                \"threshold\": threshold,\n",
    "                \"scoring\": scoring,\n",
    "                \"num_selected_features\": len(selected_features)\n",
    "            })\n",
    "            mlflow.log_metrics(metrics_after)\n",
    "\n",
    "            # Log the names of selected features as a JSON artifact\n",
    "            mlflow.log_dict({\"selected_features\": selected_features}, \n",
    "                            f\"selected_features_threshold_{threshold}_scoring_{scoring}.json\")\n",
    "\n",
    "            # Log the trained model\n",
    "            mlflow.sklearn.log_model(model_fs, f\"model_threshold_{threshold}_scoring_{scoring}\")\n",
    "\n",
    "print(\"✅ MLflow logging complete! Compare different thresholds & scoring methods, including selected features (JSON), in the MLflow UI.\")"
   ]
  },
  {
   "cell_type": "markdown",
   "id": "fe33c653",
   "metadata": {},
   "source": [
    "## Using Select By Shuffling"
   ]
  },
  {
   "cell_type": "code",
   "execution_count": null,
   "id": "c5287a09",
   "metadata": {},
   "outputs": [
    {
     "name": "stderr",
     "output_type": "stream",
     "text": [
      "2025/02/03 17:52:28 INFO mlflow.tracking.fluent: Experiment with name 'RFE' does not exist. Creating a new experiment.\n"
     ]
    }
   ],
   "source": [
    "# Set MLflow tracking URI and experiment\n",
    "mlflow.set_tracking_uri(\"http://127.0.0.1:5000/\")\n",
    "mlflow.set_experiment(\"SelectByShuffling\")\n",
    "\n",
    "# Define feature selection parameters\n",
    "scoring_methods = [\"accuracy\", \"precision_macro\", \"recall_macro\", \"f1_macro\", \"roc_auc_ovr\",\n",
    "                   \"top_k_accuracy\"]\n",
    "\n",
    "for scoring in scoring_methods:\n",
    "        # Feature selection\n",
    "    selector = SelectByShuffling(\n",
    "        estimator=RandomForestClassifier(random_state=42),\n",
    "        scoring=scoring,\n",
    "        cv=3\n",
    "    )\n",
    "    selector.fit(X_train, y_train)\n",
    "\n",
    "        # Get selected features\n",
    "    selected_features = X_train.columns[selector.get_support()].tolist()\n",
    "    X_train_selected = selector.transform(X_train)\n",
    "    X_test_selected = selector.transform(X_test)\n",
    "\n",
    "    # Train & Evaluate Model After Feature Selection\n",
    "    with mlflow.start_run(run_name=f\"Scoring_{scoring}\"):\n",
    "        model_fs = RandomForestClassifier(random_state=42)\n",
    "        model_fs.fit(X_train_selected, y_train)\n",
    "        y_pred_fs = model_fs.predict(X_test_selected)\n",
    "\n",
    "        # Compute Metrics\n",
    "        metrics_after = {\n",
    "            \"accuracy\": accuracy_score(y_test, y_pred_fs),\n",
    "            \"precision\": precision_score(y_test, y_pred_fs, average=\"weighted\"),\n",
    "            \"recall\": recall_score(y_test, y_pred_fs, average=\"weighted\"),\n",
    "            \"f1_score\": f1_score(y_test, y_pred_fs, average=\"weighted\"),\n",
    "        }\n",
    "\n",
    "        # Log Parameters and Metrics\n",
    "        mlflow.log_params({\n",
    "            \"feature_selection_applied\": True,\n",
    "            \"scoring\": scoring,\n",
    "            \"num_selected_features\": len(selected_features)\n",
    "        })\n",
    "        mlflow.log_metrics(metrics_after)\n",
    "\n",
    "        # Log the names of selected features as a JSON artifact\n",
    "        mlflow.log_dict({\"selected_features\": selected_features}, \n",
    "                        f\"selected_features_scoring_{scoring}.json\")\n",
    "\n",
    "        # Log the trained model\n",
    "        mlflow.sklearn.log_model(model_fs, f\"model_scoring_{scoring}\")\n",
    "\n",
    "print(\"✅ MLflow logging complete! Compare different scoring methods, including selected features (JSON), in the MLflow UI.\")"
   ]
  },
  {
   "cell_type": "markdown",
   "id": "3f850b0d",
   "metadata": {},
   "source": [
    "## Using Recursive Feature Elimination"
   ]
  },
  {
   "cell_type": "code",
   "execution_count": 21,
   "id": "538888b9",
   "metadata": {},
   "outputs": [
    {
     "name": "stderr",
     "output_type": "stream",
     "text": [
      "2025/02/03 17:52:28 INFO mlflow.tracking.fluent: Experiment with name 'RFE' does not exist. Creating a new experiment.\n",
      "2025/02/03 17:54:15 WARNING mlflow.models.model: Model logged without a signature and input example. Please set `input_example` parameter when logging the model to auto infer the model signature.\n"
     ]
    },
    {
     "name": "stdout",
     "output_type": "stream",
     "text": [
      "🏃 View run Scoring_accuracy at: http://127.0.0.1:5000/#/experiments/113969755590251012/runs/0d39a1769a7445c3ad952438aa925eef\n",
      "🧪 View experiment at: http://127.0.0.1:5000/#/experiments/113969755590251012\n"
     ]
    },
    {
     "name": "stderr",
     "output_type": "stream",
     "text": [
      "2025/02/03 17:55:59 WARNING mlflow.models.model: Model logged without a signature and input example. Please set `input_example` parameter when logging the model to auto infer the model signature.\n"
     ]
    },
    {
     "name": "stdout",
     "output_type": "stream",
     "text": [
      "🏃 View run Scoring_precision_macro at: http://127.0.0.1:5000/#/experiments/113969755590251012/runs/8d6437df60754a7cb0cf0115eb7dbbfd\n",
      "🧪 View experiment at: http://127.0.0.1:5000/#/experiments/113969755590251012\n"
     ]
    },
    {
     "name": "stderr",
     "output_type": "stream",
     "text": [
      "2025/02/03 17:57:46 WARNING mlflow.models.model: Model logged without a signature and input example. Please set `input_example` parameter when logging the model to auto infer the model signature.\n"
     ]
    },
    {
     "name": "stdout",
     "output_type": "stream",
     "text": [
      "🏃 View run Scoring_recall_macro at: http://127.0.0.1:5000/#/experiments/113969755590251012/runs/93aac5841710469dabdd2b2147003f4b\n",
      "🧪 View experiment at: http://127.0.0.1:5000/#/experiments/113969755590251012\n"
     ]
    },
    {
     "name": "stderr",
     "output_type": "stream",
     "text": [
      "2025/02/03 17:59:35 WARNING mlflow.models.model: Model logged without a signature and input example. Please set `input_example` parameter when logging the model to auto infer the model signature.\n"
     ]
    },
    {
     "name": "stdout",
     "output_type": "stream",
     "text": [
      "🏃 View run Scoring_f1_macro at: http://127.0.0.1:5000/#/experiments/113969755590251012/runs/10e73aacf3664b2488b3830d95d23206\n",
      "🧪 View experiment at: http://127.0.0.1:5000/#/experiments/113969755590251012\n"
     ]
    },
    {
     "name": "stderr",
     "output_type": "stream",
     "text": [
      "2025/02/03 18:01:23 WARNING mlflow.models.model: Model logged without a signature and input example. Please set `input_example` parameter when logging the model to auto infer the model signature.\n"
     ]
    },
    {
     "name": "stdout",
     "output_type": "stream",
     "text": [
      "🏃 View run Scoring_roc_auc_ovr at: http://127.0.0.1:5000/#/experiments/113969755590251012/runs/8667f9a849af4ef5bbbeef60189c7047\n",
      "🧪 View experiment at: http://127.0.0.1:5000/#/experiments/113969755590251012\n"
     ]
    },
    {
     "name": "stderr",
     "output_type": "stream",
     "text": [
      "2025/02/03 18:03:11 WARNING mlflow.models.model: Model logged without a signature and input example. Please set `input_example` parameter when logging the model to auto infer the model signature.\n"
     ]
    },
    {
     "name": "stdout",
     "output_type": "stream",
     "text": [
      "🏃 View run Scoring_top_k_accuracy at: http://127.0.0.1:5000/#/experiments/113969755590251012/runs/f81c2e87c65942708106018aeb59e662\n",
      "🧪 View experiment at: http://127.0.0.1:5000/#/experiments/113969755590251012\n",
      "✅ MLflow logging complete! Compare different scoring methods, including selected features (JSON), in the MLflow UI.\n"
     ]
    }
   ],
   "source": [
    "# Set MLflow tracking URI and experiment\n",
    "mlflow.set_tracking_uri(\"http://127.0.0.1:5000/\")\n",
    "mlflow.set_experiment(\"RFE\")\n",
    "\n",
    "# Define feature selection parameters\n",
    "scoring_methods = [\"accuracy\", \"precision_macro\", \"recall_macro\", \"f1_macro\", \"roc_auc_ovr\",\n",
    "                   \"top_k_accuracy\"]\n",
    "\n",
    "for scoring in scoring_methods:\n",
    "        # Feature selection\n",
    "    selector = RecursiveFeatureElimination(\n",
    "        estimator=RandomForestClassifier(random_state=42),\n",
    "        scoring=scoring,\n",
    "        cv=3\n",
    "    )\n",
    "    selector.fit(X_train, y_train)\n",
    "\n",
    "        # Get selected features\n",
    "    selected_features = X_train.columns[selector.get_support()].tolist()\n",
    "    X_train_selected = selector.transform(X_train)\n",
    "    X_test_selected = selector.transform(X_test)\n",
    "\n",
    "    # Train & Evaluate Model After Feature Selection\n",
    "    with mlflow.start_run(run_name=f\"Scoring_{scoring}\"):\n",
    "        model_fs = RandomForestClassifier(random_state=42)\n",
    "        model_fs.fit(X_train_selected, y_train)\n",
    "        y_pred_fs = model_fs.predict(X_test_selected)\n",
    "\n",
    "        # Compute Metrics\n",
    "        metrics_after = {\n",
    "            \"accuracy\": accuracy_score(y_test, y_pred_fs),\n",
    "            \"precision\": precision_score(y_test, y_pred_fs, average=\"weighted\"),\n",
    "            \"recall\": recall_score(y_test, y_pred_fs, average=\"weighted\"),\n",
    "            \"f1_score\": f1_score(y_test, y_pred_fs, average=\"weighted\"),\n",
    "        }\n",
    "\n",
    "        # Log Parameters and Metrics\n",
    "        mlflow.log_params({\n",
    "            \"feature_selection_applied\": True,\n",
    "            \"scoring\": scoring,\n",
    "            \"num_selected_features\": len(selected_features)\n",
    "        })\n",
    "        mlflow.log_metrics(metrics_after)\n",
    "\n",
    "        # Log the names of selected features as a JSON artifact\n",
    "        mlflow.log_dict({\"selected_features\": selected_features}, \n",
    "                        f\"selected_features_scoring_{scoring}.json\")\n",
    "\n",
    "        # Log the trained model\n",
    "        mlflow.sklearn.log_model(model_fs, f\"model_scoring_{scoring}\")\n",
    "\n",
    "print(\"✅ MLflow logging complete! Compare different scoring methods, including selected features (JSON), in the MLflow UI.\")"
   ]
  },
  {
   "cell_type": "code",
   "execution_count": 22,
   "id": "e6918ed4",
   "metadata": {},
   "outputs": [
    {
     "data": {
      "text/html": [
       "<div>\n",
       "<style scoped>\n",
       "    .dataframe tbody tr th:only-of-type {\n",
       "        vertical-align: middle;\n",
       "    }\n",
       "\n",
       "    .dataframe tbody tr th {\n",
       "        vertical-align: top;\n",
       "    }\n",
       "\n",
       "    .dataframe thead th {\n",
       "        text-align: right;\n",
       "    }\n",
       "</style>\n",
       "<table border=\"1\" class=\"dataframe\">\n",
       "  <thead>\n",
       "    <tr style=\"text-align: right;\">\n",
       "      <th></th>\n",
       "      <th>Marital status</th>\n",
       "      <th>Application mode</th>\n",
       "      <th>Application order</th>\n",
       "      <th>Course</th>\n",
       "      <th>Daytime/evening attendance</th>\n",
       "      <th>Previous qualification</th>\n",
       "      <th>Nacionality</th>\n",
       "      <th>Mother's qualification</th>\n",
       "      <th>Father's qualification</th>\n",
       "      <th>Mother's occupation</th>\n",
       "      <th>...</th>\n",
       "      <th>Parental_influence</th>\n",
       "      <th>Course_Dropout_prob</th>\n",
       "      <th>Course_Enrolled_prob</th>\n",
       "      <th>Course_Graduate_prob</th>\n",
       "      <th>Application mode_Dropout_prob</th>\n",
       "      <th>Application mode_Enrolled_prob</th>\n",
       "      <th>Application mode_Graduate_prob</th>\n",
       "      <th>Previous qualification_Dropout_prob</th>\n",
       "      <th>Previous qualification_Enrolled_prob</th>\n",
       "      <th>Previous qualification_Graduate_prob</th>\n",
       "    </tr>\n",
       "  </thead>\n",
       "  <tbody>\n",
       "    <tr>\n",
       "      <th>0</th>\n",
       "      <td>1</td>\n",
       "      <td>8</td>\n",
       "      <td>1.791759</td>\n",
       "      <td>2</td>\n",
       "      <td>1</td>\n",
       "      <td>1</td>\n",
       "      <td>1</td>\n",
       "      <td>13</td>\n",
       "      <td>10</td>\n",
       "      <td>6</td>\n",
       "      <td>...</td>\n",
       "      <td>-4.824723</td>\n",
       "      <td>0.381395</td>\n",
       "      <td>0.172093</td>\n",
       "      <td>0.446512</td>\n",
       "      <td>0.293578</td>\n",
       "      <td>0.182339</td>\n",
       "      <td>0.524083</td>\n",
       "      <td>0.290019</td>\n",
       "      <td>0.187786</td>\n",
       "      <td>0.522195</td>\n",
       "    </tr>\n",
       "    <tr>\n",
       "      <th>1</th>\n",
       "      <td>1</td>\n",
       "      <td>6</td>\n",
       "      <td>0.693147</td>\n",
       "      <td>11</td>\n",
       "      <td>1</td>\n",
       "      <td>1</td>\n",
       "      <td>1</td>\n",
       "      <td>1</td>\n",
       "      <td>3</td>\n",
       "      <td>4</td>\n",
       "      <td>...</td>\n",
       "      <td>-18.023059</td>\n",
       "      <td>0.380952</td>\n",
       "      <td>0.162698</td>\n",
       "      <td>0.456349</td>\n",
       "      <td>0.166667</td>\n",
       "      <td>0.333333</td>\n",
       "      <td>0.500000</td>\n",
       "      <td>0.290019</td>\n",
       "      <td>0.187786</td>\n",
       "      <td>0.522195</td>\n",
       "    </tr>\n",
       "    <tr>\n",
       "      <th>2</th>\n",
       "      <td>1</td>\n",
       "      <td>1</td>\n",
       "      <td>1.791759</td>\n",
       "      <td>5</td>\n",
       "      <td>1</td>\n",
       "      <td>1</td>\n",
       "      <td>1</td>\n",
       "      <td>22</td>\n",
       "      <td>27</td>\n",
       "      <td>10</td>\n",
       "      <td>...</td>\n",
       "      <td>14.511525</td>\n",
       "      <td>0.225664</td>\n",
       "      <td>0.185841</td>\n",
       "      <td>0.588496</td>\n",
       "      <td>0.201991</td>\n",
       "      <td>0.175644</td>\n",
       "      <td>0.622365</td>\n",
       "      <td>0.290019</td>\n",
       "      <td>0.187786</td>\n",
       "      <td>0.522195</td>\n",
       "    </tr>\n",
       "    <tr>\n",
       "      <th>3</th>\n",
       "      <td>1</td>\n",
       "      <td>8</td>\n",
       "      <td>1.098612</td>\n",
       "      <td>15</td>\n",
       "      <td>1</td>\n",
       "      <td>1</td>\n",
       "      <td>1</td>\n",
       "      <td>23</td>\n",
       "      <td>27</td>\n",
       "      <td>6</td>\n",
       "      <td>...</td>\n",
       "      <td>14.122941</td>\n",
       "      <td>0.305136</td>\n",
       "      <td>0.102719</td>\n",
       "      <td>0.592145</td>\n",
       "      <td>0.293578</td>\n",
       "      <td>0.182339</td>\n",
       "      <td>0.524083</td>\n",
       "      <td>0.290019</td>\n",
       "      <td>0.187786</td>\n",
       "      <td>0.522195</td>\n",
       "    </tr>\n",
       "    <tr>\n",
       "      <th>4</th>\n",
       "      <td>2</td>\n",
       "      <td>12</td>\n",
       "      <td>0.693147</td>\n",
       "      <td>3</td>\n",
       "      <td>0</td>\n",
       "      <td>1</td>\n",
       "      <td>1</td>\n",
       "      <td>22</td>\n",
       "      <td>28</td>\n",
       "      <td>10</td>\n",
       "      <td>...</td>\n",
       "      <td>15.327614</td>\n",
       "      <td>0.330233</td>\n",
       "      <td>0.097674</td>\n",
       "      <td>0.572093</td>\n",
       "      <td>0.554140</td>\n",
       "      <td>0.154140</td>\n",
       "      <td>0.291720</td>\n",
       "      <td>0.290019</td>\n",
       "      <td>0.187786</td>\n",
       "      <td>0.522195</td>\n",
       "    </tr>\n",
       "  </tbody>\n",
       "</table>\n",
       "<p>5 rows × 52 columns</p>\n",
       "</div>"
      ],
      "text/plain": [
       "   Marital status  Application mode  Application order  Course  \\\n",
       "0               1                 8           1.791759       2   \n",
       "1               1                 6           0.693147      11   \n",
       "2               1                 1           1.791759       5   \n",
       "3               1                 8           1.098612      15   \n",
       "4               2                12           0.693147       3   \n",
       "\n",
       "   Daytime/evening attendance  Previous qualification  Nacionality  \\\n",
       "0                           1                       1            1   \n",
       "1                           1                       1            1   \n",
       "2                           1                       1            1   \n",
       "3                           1                       1            1   \n",
       "4                           0                       1            1   \n",
       "\n",
       "   Mother's qualification  Father's qualification  Mother's occupation  ...  \\\n",
       "0                      13                      10                    6  ...   \n",
       "1                       1                       3                    4  ...   \n",
       "2                      22                      27                   10  ...   \n",
       "3                      23                      27                    6  ...   \n",
       "4                      22                      28                   10  ...   \n",
       "\n",
       "   Parental_influence  Course_Dropout_prob  Course_Enrolled_prob  \\\n",
       "0           -4.824723             0.381395              0.172093   \n",
       "1          -18.023059             0.380952              0.162698   \n",
       "2           14.511525             0.225664              0.185841   \n",
       "3           14.122941             0.305136              0.102719   \n",
       "4           15.327614             0.330233              0.097674   \n",
       "\n",
       "   Course_Graduate_prob  Application mode_Dropout_prob  \\\n",
       "0              0.446512                       0.293578   \n",
       "1              0.456349                       0.166667   \n",
       "2              0.588496                       0.201991   \n",
       "3              0.592145                       0.293578   \n",
       "4              0.572093                       0.554140   \n",
       "\n",
       "   Application mode_Enrolled_prob  Application mode_Graduate_prob  \\\n",
       "0                        0.182339                        0.524083   \n",
       "1                        0.333333                        0.500000   \n",
       "2                        0.175644                        0.622365   \n",
       "3                        0.182339                        0.524083   \n",
       "4                        0.154140                        0.291720   \n",
       "\n",
       "   Previous qualification_Dropout_prob  Previous qualification_Enrolled_prob  \\\n",
       "0                             0.290019                              0.187786   \n",
       "1                             0.290019                              0.187786   \n",
       "2                             0.290019                              0.187786   \n",
       "3                             0.290019                              0.187786   \n",
       "4                             0.290019                              0.187786   \n",
       "\n",
       "   Previous qualification_Graduate_prob  \n",
       "0                              0.522195  \n",
       "1                              0.522195  \n",
       "2                              0.522195  \n",
       "3                              0.522195  \n",
       "4                              0.522195  \n",
       "\n",
       "[5 rows x 52 columns]"
      ]
     },
     "execution_count": 22,
     "metadata": {},
     "output_type": "execute_result"
    }
   ],
   "source": [
    "transformed_df = pd.read_csv(\"processed_data/log_transformed_dataset.csv\")\n",
    "transformed_df.head()"
   ]
  },
  {
   "cell_type": "code",
   "execution_count": 24,
   "id": "2240505f",
   "metadata": {},
   "outputs": [
    {
     "name": "stderr",
     "output_type": "stream",
     "text": [
      "2025/02/03 18:20:03 INFO mlflow.tracking.fluent: Experiment with name 'Feature_Transformation_Tracking' does not exist. Creating a new experiment.\n",
      "2025/02/03 18:20:07 WARNING mlflow.models.model: Model logged without a signature and input example. Please set `input_example` parameter when logging the model to auto infer the model signature.\n"
     ]
    },
    {
     "name": "stdout",
     "output_type": "stream",
     "text": [
      "🏃 View run Before_Log1p at: http://127.0.0.1:5000/#/experiments/252510383797126547/runs/871d8c7504e7431fa2fe7e21991b6078\n",
      "🧪 View experiment at: http://127.0.0.1:5000/#/experiments/252510383797126547\n"
     ]
    }
   ],
   "source": [
    "# Set the tracking uri\n",
    "mlflow.set_tracking_uri(\"http://127.0.0.1:5000/\")\n",
    "\n",
    "# Enable MLflow tracking\n",
    "mlflow.set_experiment(\"Feature_Transformation_Tracking\")\n",
    "\n",
    "with mlflow.start_run(run_name=\"Before_Log1p\"):\n",
    "    model = RandomForestClassifier(random_state=42)\n",
    "    model.fit(X_train, y_train)\n",
    "    y_pred = model.predict(X_test)\n",
    "\n",
    "    # Compute metrics\n",
    "    metrics_before = {\n",
    "        \"accuracy\": accuracy_score(y_test, y_pred),\n",
    "        \"precision\": precision_score(y_test, y_pred, average=\"weighted\"),\n",
    "        \"recall\": recall_score(y_test, y_pred, average=\"weighted\"),\n",
    "        \"f1_score\": f1_score(y_test, y_pred, average=\"weighted\"),\n",
    "    }\n",
    "    \n",
    "    # Log model and metrics\n",
    "    mlflow.log_params({\"log1p_applied\": False})\n",
    "    mlflow.log_metrics(metrics_before)\n",
    "    mlflow.sklearn.log_model(model, \"model_before\")"
   ]
  },
  {
   "cell_type": "markdown",
   "id": "27d58321",
   "metadata": {},
   "source": [
    "## Tracking Before VS After Log Transformations"
   ]
  },
  {
   "cell_type": "code",
   "execution_count": 25,
   "id": "6b1fe598",
   "metadata": {},
   "outputs": [],
   "source": [
    "X = transformed_df.drop(columns=[target_variable])\n",
    "y = transformed_df[target_variable]"
   ]
  },
  {
   "cell_type": "code",
   "execution_count": 26,
   "id": "6cbd02bf",
   "metadata": {},
   "outputs": [],
   "source": [
    "X_train, X_test, y_train, y_test = train_test_split(X, y, test_size=0.2, random_state=0)"
   ]
  },
  {
   "cell_type": "code",
   "execution_count": 27,
   "id": "efe38541",
   "metadata": {},
   "outputs": [
    {
     "name": "stderr",
     "output_type": "stream",
     "text": [
      "2025/02/03 18:20:22 WARNING mlflow.models.model: Model logged without a signature and input example. Please set `input_example` parameter when logging the model to auto infer the model signature.\n"
     ]
    },
    {
     "name": "stdout",
     "output_type": "stream",
     "text": [
      "🏃 View run After_Log1p at: http://127.0.0.1:5000/#/experiments/252510383797126547/runs/9b29d9887b7a4c33b563eaac2f5e0c47\n",
      "🧪 View experiment at: http://127.0.0.1:5000/#/experiments/252510383797126547\n",
      "✅ MLflow logging complete! Compare runs in MLflow UI.\n"
     ]
    }
   ],
   "source": [
    "# Enable MLflow tracking\n",
    "mlflow.set_experiment(\"Feature_Transformation_Tracking\")\n",
    "\n",
    "with mlflow.start_run(run_name=\"After_Log1p\"):\n",
    "    model_log1p = RandomForestClassifier(random_state=42)\n",
    "    model_log1p.fit(X_train, y_train)\n",
    "    y_pred_log1p = model_log1p.predict(X_test)\n",
    "\n",
    "    # Compute metrics\n",
    "    metrics_after = {\n",
    "        \"accuracy\": accuracy_score(y_test, y_pred_log1p),\n",
    "        \"precision\": precision_score(y_test, y_pred_log1p, average=\"weighted\"),\n",
    "        \"recall\": recall_score(y_test, y_pred_log1p, average=\"weighted\"),\n",
    "        \"f1_score\": f1_score(y_test, y_pred_log1p, average=\"weighted\"),\n",
    "    }\n",
    "    \n",
    "    # Log model and metrics\n",
    "    mlflow.log_params({\"log1p_applied\": True})\n",
    "    mlflow.log_metrics(metrics_after)\n",
    "    mlflow.sklearn.log_model(model_log1p, \"model_after\")\n",
    "\n",
    "print(\"✅ MLflow logging complete! Compare runs in MLflow UI.\")"
   ]
  },
  {
   "cell_type": "markdown",
   "id": "ae5dc792",
   "metadata": {},
   "source": [
    "## Tracking Before VS After Winsorization"
   ]
  },
  {
   "cell_type": "code",
   "execution_count": 28,
   "id": "a5f13d80",
   "metadata": {},
   "outputs": [
    {
     "data": {
      "text/html": [
       "<div>\n",
       "<style scoped>\n",
       "    .dataframe tbody tr th:only-of-type {\n",
       "        vertical-align: middle;\n",
       "    }\n",
       "\n",
       "    .dataframe tbody tr th {\n",
       "        vertical-align: top;\n",
       "    }\n",
       "\n",
       "    .dataframe thead th {\n",
       "        text-align: right;\n",
       "    }\n",
       "</style>\n",
       "<table border=\"1\" class=\"dataframe\">\n",
       "  <thead>\n",
       "    <tr style=\"text-align: right;\">\n",
       "      <th></th>\n",
       "      <th>Marital status</th>\n",
       "      <th>Application mode</th>\n",
       "      <th>Application order</th>\n",
       "      <th>Course</th>\n",
       "      <th>Daytime/evening attendance</th>\n",
       "      <th>Previous qualification</th>\n",
       "      <th>Nacionality</th>\n",
       "      <th>Mother's qualification</th>\n",
       "      <th>Father's qualification</th>\n",
       "      <th>Mother's occupation</th>\n",
       "      <th>...</th>\n",
       "      <th>Parental_influence</th>\n",
       "      <th>Course_Dropout_prob</th>\n",
       "      <th>Course_Enrolled_prob</th>\n",
       "      <th>Course_Graduate_prob</th>\n",
       "      <th>Application mode_Dropout_prob</th>\n",
       "      <th>Application mode_Enrolled_prob</th>\n",
       "      <th>Application mode_Graduate_prob</th>\n",
       "      <th>Previous qualification_Dropout_prob</th>\n",
       "      <th>Previous qualification_Enrolled_prob</th>\n",
       "      <th>Previous qualification_Graduate_prob</th>\n",
       "    </tr>\n",
       "  </thead>\n",
       "  <tbody>\n",
       "    <tr>\n",
       "      <th>0</th>\n",
       "      <td>1</td>\n",
       "      <td>8</td>\n",
       "      <td>1.791759</td>\n",
       "      <td>2</td>\n",
       "      <td>1</td>\n",
       "      <td>1</td>\n",
       "      <td>1</td>\n",
       "      <td>13</td>\n",
       "      <td>10</td>\n",
       "      <td>6</td>\n",
       "      <td>...</td>\n",
       "      <td>-4.824723</td>\n",
       "      <td>0.381395</td>\n",
       "      <td>0.172093</td>\n",
       "      <td>0.446512</td>\n",
       "      <td>0.293578</td>\n",
       "      <td>0.182339</td>\n",
       "      <td>0.524083</td>\n",
       "      <td>0.290019</td>\n",
       "      <td>0.187786</td>\n",
       "      <td>0.522195</td>\n",
       "    </tr>\n",
       "    <tr>\n",
       "      <th>1</th>\n",
       "      <td>1</td>\n",
       "      <td>6</td>\n",
       "      <td>0.693147</td>\n",
       "      <td>11</td>\n",
       "      <td>1</td>\n",
       "      <td>1</td>\n",
       "      <td>1</td>\n",
       "      <td>1</td>\n",
       "      <td>3</td>\n",
       "      <td>4</td>\n",
       "      <td>...</td>\n",
       "      <td>-18.023059</td>\n",
       "      <td>0.380952</td>\n",
       "      <td>0.162698</td>\n",
       "      <td>0.456349</td>\n",
       "      <td>0.166667</td>\n",
       "      <td>0.333333</td>\n",
       "      <td>0.500000</td>\n",
       "      <td>0.290019</td>\n",
       "      <td>0.187786</td>\n",
       "      <td>0.522195</td>\n",
       "    </tr>\n",
       "    <tr>\n",
       "      <th>2</th>\n",
       "      <td>1</td>\n",
       "      <td>1</td>\n",
       "      <td>1.791759</td>\n",
       "      <td>5</td>\n",
       "      <td>1</td>\n",
       "      <td>1</td>\n",
       "      <td>1</td>\n",
       "      <td>22</td>\n",
       "      <td>27</td>\n",
       "      <td>10</td>\n",
       "      <td>...</td>\n",
       "      <td>14.511525</td>\n",
       "      <td>0.225664</td>\n",
       "      <td>0.185841</td>\n",
       "      <td>0.588496</td>\n",
       "      <td>0.201991</td>\n",
       "      <td>0.175644</td>\n",
       "      <td>0.622365</td>\n",
       "      <td>0.290019</td>\n",
       "      <td>0.187786</td>\n",
       "      <td>0.522195</td>\n",
       "    </tr>\n",
       "    <tr>\n",
       "      <th>3</th>\n",
       "      <td>1</td>\n",
       "      <td>8</td>\n",
       "      <td>1.098612</td>\n",
       "      <td>15</td>\n",
       "      <td>1</td>\n",
       "      <td>1</td>\n",
       "      <td>1</td>\n",
       "      <td>23</td>\n",
       "      <td>27</td>\n",
       "      <td>6</td>\n",
       "      <td>...</td>\n",
       "      <td>14.122941</td>\n",
       "      <td>0.305136</td>\n",
       "      <td>0.102719</td>\n",
       "      <td>0.592145</td>\n",
       "      <td>0.293578</td>\n",
       "      <td>0.182339</td>\n",
       "      <td>0.524083</td>\n",
       "      <td>0.290019</td>\n",
       "      <td>0.187786</td>\n",
       "      <td>0.522195</td>\n",
       "    </tr>\n",
       "    <tr>\n",
       "      <th>4</th>\n",
       "      <td>2</td>\n",
       "      <td>12</td>\n",
       "      <td>0.693147</td>\n",
       "      <td>3</td>\n",
       "      <td>0</td>\n",
       "      <td>1</td>\n",
       "      <td>1</td>\n",
       "      <td>22</td>\n",
       "      <td>28</td>\n",
       "      <td>10</td>\n",
       "      <td>...</td>\n",
       "      <td>15.327614</td>\n",
       "      <td>0.330233</td>\n",
       "      <td>0.097674</td>\n",
       "      <td>0.572093</td>\n",
       "      <td>0.554140</td>\n",
       "      <td>0.154140</td>\n",
       "      <td>0.291720</td>\n",
       "      <td>0.290019</td>\n",
       "      <td>0.187786</td>\n",
       "      <td>0.522195</td>\n",
       "    </tr>\n",
       "  </tbody>\n",
       "</table>\n",
       "<p>5 rows × 52 columns</p>\n",
       "</div>"
      ],
      "text/plain": [
       "   Marital status  Application mode  Application order  Course  \\\n",
       "0               1                 8           1.791759       2   \n",
       "1               1                 6           0.693147      11   \n",
       "2               1                 1           1.791759       5   \n",
       "3               1                 8           1.098612      15   \n",
       "4               2                12           0.693147       3   \n",
       "\n",
       "   Daytime/evening attendance  Previous qualification  Nacionality  \\\n",
       "0                           1                       1            1   \n",
       "1                           1                       1            1   \n",
       "2                           1                       1            1   \n",
       "3                           1                       1            1   \n",
       "4                           0                       1            1   \n",
       "\n",
       "   Mother's qualification  Father's qualification  Mother's occupation  ...  \\\n",
       "0                      13                      10                    6  ...   \n",
       "1                       1                       3                    4  ...   \n",
       "2                      22                      27                   10  ...   \n",
       "3                      23                      27                    6  ...   \n",
       "4                      22                      28                   10  ...   \n",
       "\n",
       "   Parental_influence  Course_Dropout_prob  Course_Enrolled_prob  \\\n",
       "0           -4.824723             0.381395              0.172093   \n",
       "1          -18.023059             0.380952              0.162698   \n",
       "2           14.511525             0.225664              0.185841   \n",
       "3           14.122941             0.305136              0.102719   \n",
       "4           15.327614             0.330233              0.097674   \n",
       "\n",
       "   Course_Graduate_prob  Application mode_Dropout_prob  \\\n",
       "0              0.446512                       0.293578   \n",
       "1              0.456349                       0.166667   \n",
       "2              0.588496                       0.201991   \n",
       "3              0.592145                       0.293578   \n",
       "4              0.572093                       0.554140   \n",
       "\n",
       "   Application mode_Enrolled_prob  Application mode_Graduate_prob  \\\n",
       "0                        0.182339                        0.524083   \n",
       "1                        0.333333                        0.500000   \n",
       "2                        0.175644                        0.622365   \n",
       "3                        0.182339                        0.524083   \n",
       "4                        0.154140                        0.291720   \n",
       "\n",
       "   Previous qualification_Dropout_prob  Previous qualification_Enrolled_prob  \\\n",
       "0                             0.290019                              0.187786   \n",
       "1                             0.290019                              0.187786   \n",
       "2                             0.290019                              0.187786   \n",
       "3                             0.290019                              0.187786   \n",
       "4                             0.290019                              0.187786   \n",
       "\n",
       "   Previous qualification_Graduate_prob  \n",
       "0                              0.522195  \n",
       "1                              0.522195  \n",
       "2                              0.522195  \n",
       "3                              0.522195  \n",
       "4                              0.522195  \n",
       "\n",
       "[5 rows x 52 columns]"
      ]
     },
     "execution_count": 28,
     "metadata": {},
     "output_type": "execute_result"
    }
   ],
   "source": [
    "winsorized_df = pd.read_csv(\"processed_data/winsorized_dataset.csv\")\n",
    "winsorized_df.head()"
   ]
  },
  {
   "cell_type": "code",
   "execution_count": 29,
   "id": "718314e7",
   "metadata": {},
   "outputs": [],
   "source": [
    "X = winsorized_df.drop(columns=[target_variable])\n",
    "y = winsorized_df[target_variable]"
   ]
  },
  {
   "cell_type": "code",
   "execution_count": 30,
   "id": "5da666bf",
   "metadata": {},
   "outputs": [],
   "source": [
    "X_train, X_test, y_train, y_test = train_test_split(X, y, test_size=0.2, random_state=42)"
   ]
  },
  {
   "cell_type": "code",
   "execution_count": 31,
   "id": "a763c158",
   "metadata": {},
   "outputs": [
    {
     "name": "stderr",
     "output_type": "stream",
     "text": [
      "2025/02/03 18:23:05 WARNING mlflow.models.model: Model logged without a signature and input example. Please set `input_example` parameter when logging the model to auto infer the model signature.\n"
     ]
    },
    {
     "name": "stdout",
     "output_type": "stream",
     "text": [
      "🏃 View run After Winsorization at: http://127.0.0.1:5000/#/experiments/252510383797126547/runs/3aa3c16c873a413a81f508f35e3ae0fb\n",
      "🧪 View experiment at: http://127.0.0.1:5000/#/experiments/252510383797126547\n",
      "✅ MLflow logging complete! Compare runs in MLflow UI.\n"
     ]
    }
   ],
   "source": [
    "# Enable MLflow tracking\n",
    "mlflow.set_experiment(\"Feature_Transformation_Tracking\")\n",
    "\n",
    "with mlflow.start_run(run_name=\"After Winsorization\"):\n",
    "    model = RandomForestClassifier(random_state=42)\n",
    "    model.fit(X_train, y_train)\n",
    "    y_pred = model.predict(X_test)\n",
    "\n",
    "    # Compute metrics\n",
    "    metrics_after = {\n",
    "        \"accuracy\": accuracy_score(y_test, y_pred),\n",
    "        \"precision\": precision_score(y_test, y_pred, average=\"weighted\"),\n",
    "        \"recall\": recall_score(y_test, y_pred, average=\"weighted\"),\n",
    "        \"f1_score\": f1_score(y_test, y_pred, average=\"weighted\"),\n",
    "    }\n",
    "    \n",
    "    # Log model and metrics\n",
    "    mlflow.log_params({\"Winsorization\": True})\n",
    "    mlflow.log_metrics(metrics_after)\n",
    "    mlflow.sklearn.log_model(model, \"model_after\")\n",
    "\n",
    "print(\"✅ MLflow logging complete! Compare runs in MLflow UI.\")"
   ]
  },
  {
   "cell_type": "markdown",
   "id": "49548206",
   "metadata": {},
   "source": [
    "## Applying RFE and log transformations simultaneously"
   ]
  },
  {
   "cell_type": "code",
   "execution_count": 32,
   "id": "6445d346",
   "metadata": {},
   "outputs": [],
   "source": [
    "X = transformed_df.drop(columns=[target_variable])\n",
    "y = transformed_df[target_variable]"
   ]
  },
  {
   "cell_type": "code",
   "execution_count": 33,
   "id": "f81a4c60",
   "metadata": {},
   "outputs": [],
   "source": [
    "X_train, X_test, y_train, y_test = train_test_split(X, y, test_size=0.2, random_state=42)"
   ]
  },
  {
   "cell_type": "code",
   "execution_count": 35,
   "id": "76a6d0fe",
   "metadata": {},
   "outputs": [],
   "source": [
    "label_enc = LabelEncoder()"
   ]
  },
  {
   "cell_type": "code",
   "execution_count": 36,
   "id": "98f31e83",
   "metadata": {},
   "outputs": [],
   "source": [
    "y_train = label_enc.fit_transform(y_train)\n",
    "y_test = label_enc.transform(y_test)"
   ]
  },
  {
   "cell_type": "code",
   "execution_count": 37,
   "id": "1f640e40",
   "metadata": {},
   "outputs": [
    {
     "name": "stderr",
     "output_type": "stream",
     "text": [
      "2025/02/03 18:43:42 WARNING mlflow.models.model: Model logged without a signature and input example. Please set `input_example` parameter when logging the model to auto infer the model signature.\n"
     ]
    },
    {
     "name": "stdout",
     "output_type": "stream",
     "text": [
      "🏃 View run Scoring_accuracy at: http://127.0.0.1:5000/#/experiments/195820902230537456/runs/02cc55a115b0482e9e6892be904922a9\n",
      "🧪 View experiment at: http://127.0.0.1:5000/#/experiments/195820902230537456\n"
     ]
    },
    {
     "name": "stderr",
     "output_type": "stream",
     "text": [
      "2025/02/03 18:45:26 WARNING mlflow.models.model: Model logged without a signature and input example. Please set `input_example` parameter when logging the model to auto infer the model signature.\n"
     ]
    },
    {
     "name": "stdout",
     "output_type": "stream",
     "text": [
      "🏃 View run Scoring_precision_macro at: http://127.0.0.1:5000/#/experiments/195820902230537456/runs/fdc2b0380d76417ca737a87495f72322\n",
      "🧪 View experiment at: http://127.0.0.1:5000/#/experiments/195820902230537456\n"
     ]
    },
    {
     "name": "stderr",
     "output_type": "stream",
     "text": [
      "2025/02/03 18:47:08 WARNING mlflow.models.model: Model logged without a signature and input example. Please set `input_example` parameter when logging the model to auto infer the model signature.\n"
     ]
    },
    {
     "name": "stdout",
     "output_type": "stream",
     "text": [
      "🏃 View run Scoring_recall_macro at: http://127.0.0.1:5000/#/experiments/195820902230537456/runs/904dd4eb83f74449b6976de953585fa5\n",
      "🧪 View experiment at: http://127.0.0.1:5000/#/experiments/195820902230537456\n"
     ]
    },
    {
     "name": "stderr",
     "output_type": "stream",
     "text": [
      "2025/02/03 18:48:52 WARNING mlflow.models.model: Model logged without a signature and input example. Please set `input_example` parameter when logging the model to auto infer the model signature.\n"
     ]
    },
    {
     "name": "stdout",
     "output_type": "stream",
     "text": [
      "🏃 View run Scoring_f1_macro at: http://127.0.0.1:5000/#/experiments/195820902230537456/runs/bf16e0767201416cb99bb215e943736a\n",
      "🧪 View experiment at: http://127.0.0.1:5000/#/experiments/195820902230537456\n"
     ]
    },
    {
     "name": "stderr",
     "output_type": "stream",
     "text": [
      "2025/02/03 18:50:39 WARNING mlflow.models.model: Model logged without a signature and input example. Please set `input_example` parameter when logging the model to auto infer the model signature.\n"
     ]
    },
    {
     "name": "stdout",
     "output_type": "stream",
     "text": [
      "🏃 View run Scoring_roc_auc_ovr at: http://127.0.0.1:5000/#/experiments/195820902230537456/runs/21e5ccffe99742b5a8bda679c2cae6b1\n",
      "🧪 View experiment at: http://127.0.0.1:5000/#/experiments/195820902230537456\n"
     ]
    },
    {
     "name": "stderr",
     "output_type": "stream",
     "text": [
      "2025/02/03 18:52:27 WARNING mlflow.models.model: Model logged without a signature and input example. Please set `input_example` parameter when logging the model to auto infer the model signature.\n"
     ]
    },
    {
     "name": "stdout",
     "output_type": "stream",
     "text": [
      "🏃 View run Scoring_top_k_accuracy at: http://127.0.0.1:5000/#/experiments/195820902230537456/runs/1378aaaf3ed44e619ffdbd5bc71fb5e7\n",
      "🧪 View experiment at: http://127.0.0.1:5000/#/experiments/195820902230537456\n",
      "✅ MLflow logging complete! Compare different scoring methods, including selected features (JSON), in the MLflow UI.\n"
     ]
    }
   ],
   "source": [
    "# Set MLflow tracking URI and experiment\n",
    "mlflow.set_tracking_uri(\"http://127.0.0.1:5000/\")\n",
    "mlflow.set_experiment(\"RFE And Log transformations\")\n",
    "\n",
    "# Define feature selection parameters\n",
    "scoring_methods = [\"accuracy\", \"precision_macro\", \"recall_macro\", \"f1_macro\", \"roc_auc_ovr\",\n",
    "                   \"top_k_accuracy\"]\n",
    "\n",
    "for scoring in scoring_methods:\n",
    "        # Feature selection\n",
    "    selector = RecursiveFeatureElimination(\n",
    "        estimator=RandomForestClassifier(random_state=42),\n",
    "        scoring=scoring,\n",
    "        cv=3\n",
    "    )\n",
    "    selector.fit(X_train, y_train)\n",
    "\n",
    "        # Get selected features\n",
    "    selected_features = X_train.columns[selector.get_support()].tolist()\n",
    "    X_train_selected = selector.transform(X_train)\n",
    "    X_test_selected = selector.transform(X_test)\n",
    "\n",
    "    # Train & Evaluate Model After Feature Selection\n",
    "    with mlflow.start_run(run_name=f\"Scoring_{scoring}\"):\n",
    "        model_fs = RandomForestClassifier(random_state=42)\n",
    "        model_fs.fit(X_train_selected, y_train)\n",
    "        y_pred_fs = model_fs.predict(X_test_selected)\n",
    "\n",
    "        # Compute Metrics\n",
    "        metrics_after = {\n",
    "            \"accuracy\": accuracy_score(y_test, y_pred_fs),\n",
    "            \"precision\": precision_score(y_test, y_pred_fs, average=\"weighted\"),\n",
    "            \"recall\": recall_score(y_test, y_pred_fs, average=\"weighted\"),\n",
    "            \"f1_score\": f1_score(y_test, y_pred_fs, average=\"weighted\"),\n",
    "        }\n",
    "\n",
    "        # Log Parameters and Metrics\n",
    "        mlflow.log_params({\n",
    "            \"feature_selection_applied\": True,\n",
    "            \"scoring\": scoring,\n",
    "            \"num_selected_features\": len(selected_features)\n",
    "        })\n",
    "        mlflow.log_metrics(metrics_after)\n",
    "\n",
    "        # Log the names of selected features as a JSON artifact\n",
    "        mlflow.log_dict({\"selected_features\": selected_features}, \n",
    "                        f\"selected_features_scoring_{scoring}.json\")\n",
    "\n",
    "        # Log the trained model\n",
    "        mlflow.sklearn.log_model(model_fs, f\"model_scoring_{scoring}\")\n",
    "\n",
    "print(\"✅ MLflow logging complete! Compare different scoring methods, including selected features (JSON), in the MLflow UI.\")"
   ]
  },
  {
   "cell_type": "code",
   "execution_count": null,
   "id": "1d70d7c3",
   "metadata": {},
   "outputs": [],
   "source": []
  }
 ],
 "metadata": {
  "kernelspec": {
   "display_name": "Python 3 (ipykernel)",
   "language": "python",
   "name": "python3"
  },
  "language_info": {
   "codemirror_mode": {
    "name": "ipython",
    "version": 3
   },
   "file_extension": ".py",
   "mimetype": "text/x-python",
   "name": "python",
   "nbconvert_exporter": "python",
   "pygments_lexer": "ipython3",
   "version": "3.11.5"
  }
 },
 "nbformat": 4,
 "nbformat_minor": 5
}
